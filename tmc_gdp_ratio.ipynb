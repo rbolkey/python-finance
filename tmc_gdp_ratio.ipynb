{
 "cells": [
  {
   "cell_type": "markdown",
   "metadata": {},
   "source": [
    "# Total Market Cap to GDP Ratio\n",
    "\n",
    "This notebook is looking at the total US market cap (via Wilshire 5000 index) to US GDP ratio.\n",
    "\n",
    "In part this is an exercise in accessing and manipulating financial data using Python."
   ]
  },
  {
   "cell_type": "code",
   "execution_count": 76,
   "metadata": {},
   "outputs": [],
   "source": [
    "import pandas as pd\n",
    "import pandas_datareader.data as web\n",
    "import datetime\n",
    "import requests_cache\n",
    "from plotnine import ggplot, geom_point, aes, geom_boxplot, scale_x_discrete, themes"
   ]
  },
  {
   "cell_type": "code",
   "execution_count": 2,
   "metadata": {},
   "outputs": [],
   "source": [
    "# We don't need to continually refresh this data, so leveraging the built-in caching capabilities.\n",
    "\n",
    "expire_after = datetime.timedelta(days=3)\n",
    "session = requests_cache.CachedSession(cache_name='cache', backend='sqlite', expire_after=expire_after)"
   ]
  },
  {
   "cell_type": "code",
   "execution_count": 61,
   "metadata": {},
   "outputs": [],
   "source": [
    "def fetch_tmc_gdp_df(start: datetime = None, end: datetime = None) -> pd.DataFrame:\n",
    "    \"\"\"\n",
    "    Fetches data from FRED.\n",
    "    \n",
    "    Parameters:\n",
    "    start (datetime): Start of date range for pulling data.\n",
    "    end (datetime): End of date range for pulling data.\n",
    "    \n",
    "    Returns:\n",
    "    A Pandas dataframe with total market cap, gdp, ratio, date stamp, and month stamp.\n",
    "    \"\"\"\n",
    "    \n",
    "    if start is None:\n",
    "        start = datetime.datetime(2000,1,1)\n",
    "    if end is None:\n",
    "        end = datetime.datetime.now()\n",
    "        \n",
    "    tmc = web.DataReader('WILL5000PRFC', 'fred', start, end, session=session)\n",
    "    \n",
    "    tmc.loc[datetime.datetime(2020,3,26), 'WILL5000PRFC'] = 26014.11\n",
    "    \n",
    "    gdp = web.DataReader('GDP', 'fred', start, end, session=session)\n",
    "\n",
    "    df = pd.merge(tmc, gdp, on='DATE', how='left').reset_index()\n",
    "    df = df.fillna(method='pad')\n",
    "    df['RATIO'] = df['WILL5000PRFC'] * 100 / df['GDP']\n",
    "    df = df.dropna()\n",
    "    df['MONTH'] = [str(x)[:7] for x in df['DATE']]\n",
    "    \n",
    "    return df\n",
    "    "
   ]
  },
  {
   "cell_type": "code",
   "execution_count": 63,
   "metadata": {},
   "outputs": [],
   "source": [
    "my_ratio_df = fetch_tmc_gdp_df()"
   ]
  },
  {
   "cell_type": "markdown",
   "metadata": {},
   "source": [
    "Example data from the end of the data frame."
   ]
  },
  {
   "cell_type": "code",
   "execution_count": 71,
   "metadata": {},
   "outputs": [
    {
     "data": {
      "text/html": [
       "<div>\n",
       "<style scoped>\n",
       "    .dataframe tbody tr th:only-of-type {\n",
       "        vertical-align: middle;\n",
       "    }\n",
       "\n",
       "    .dataframe tbody tr th {\n",
       "        vertical-align: top;\n",
       "    }\n",
       "\n",
       "    .dataframe thead th {\n",
       "        text-align: right;\n",
       "    }\n",
       "</style>\n",
       "<table border=\"1\" class=\"dataframe\">\n",
       "  <thead>\n",
       "    <tr style=\"text-align: right;\">\n",
       "      <th></th>\n",
       "      <th>DATE</th>\n",
       "      <th>WILL5000PRFC</th>\n",
       "      <th>GDP</th>\n",
       "      <th>RATIO</th>\n",
       "      <th>MONTH</th>\n",
       "    </tr>\n",
       "  </thead>\n",
       "  <tbody>\n",
       "    <tr>\n",
       "      <th>5299</th>\n",
       "      <td>2020-04-24</td>\n",
       "      <td>28483.89</td>\n",
       "      <td>21537.94</td>\n",
       "      <td>132.249834</td>\n",
       "      <td>2020-04</td>\n",
       "    </tr>\n",
       "    <tr>\n",
       "      <th>5300</th>\n",
       "      <td>2020-04-27</td>\n",
       "      <td>28990.17</td>\n",
       "      <td>21537.94</td>\n",
       "      <td>134.600477</td>\n",
       "      <td>2020-04</td>\n",
       "    </tr>\n",
       "    <tr>\n",
       "      <th>5301</th>\n",
       "      <td>2020-04-28</td>\n",
       "      <td>28876.23</td>\n",
       "      <td>21537.94</td>\n",
       "      <td>134.071457</td>\n",
       "      <td>2020-04</td>\n",
       "    </tr>\n",
       "    <tr>\n",
       "      <th>5302</th>\n",
       "      <td>2020-04-29</td>\n",
       "      <td>29719.03</td>\n",
       "      <td>21537.94</td>\n",
       "      <td>137.984552</td>\n",
       "      <td>2020-04</td>\n",
       "    </tr>\n",
       "    <tr>\n",
       "      <th>5303</th>\n",
       "      <td>2020-04-30</td>\n",
       "      <td>29365.43</td>\n",
       "      <td>21537.94</td>\n",
       "      <td>136.342798</td>\n",
       "      <td>2020-04</td>\n",
       "    </tr>\n",
       "  </tbody>\n",
       "</table>\n",
       "</div>"
      ],
      "text/plain": [
       "           DATE  WILL5000PRFC       GDP       RATIO    MONTH\n",
       "5299 2020-04-24      28483.89  21537.94  132.249834  2020-04\n",
       "5300 2020-04-27      28990.17  21537.94  134.600477  2020-04\n",
       "5301 2020-04-28      28876.23  21537.94  134.071457  2020-04\n",
       "5302 2020-04-29      29719.03  21537.94  137.984552  2020-04\n",
       "5303 2020-04-30      29365.43  21537.94  136.342798  2020-04"
      ]
     },
     "execution_count": 71,
     "metadata": {},
     "output_type": "execute_result"
    }
   ],
   "source": [
    "my_ratio_df.tail()"
   ]
  },
  {
   "cell_type": "markdown",
   "metadata": {},
   "source": [
    "Summary statistics for the tmc/gdp ratio."
   ]
  },
  {
   "cell_type": "code",
   "execution_count": 86,
   "metadata": {},
   "outputs": [
    {
     "data": {
      "text/html": [
       "<div>\n",
       "<style scoped>\n",
       "    .dataframe tbody tr th:only-of-type {\n",
       "        vertical-align: middle;\n",
       "    }\n",
       "\n",
       "    .dataframe tbody tr th {\n",
       "        vertical-align: top;\n",
       "    }\n",
       "\n",
       "    .dataframe thead th {\n",
       "        text-align: right;\n",
       "    }\n",
       "</style>\n",
       "<table border=\"1\" class=\"dataframe\">\n",
       "  <thead>\n",
       "    <tr style=\"text-align: right;\">\n",
       "      <th></th>\n",
       "      <th>RATIO</th>\n",
       "    </tr>\n",
       "  </thead>\n",
       "  <tbody>\n",
       "    <tr>\n",
       "      <th>count</th>\n",
       "      <td>5044.000000</td>\n",
       "    </tr>\n",
       "    <tr>\n",
       "      <th>mean</th>\n",
       "      <td>102.688465</td>\n",
       "    </tr>\n",
       "    <tr>\n",
       "      <th>std</th>\n",
       "      <td>21.942508</td>\n",
       "    </tr>\n",
       "    <tr>\n",
       "      <th>min</th>\n",
       "      <td>47.646029</td>\n",
       "    </tr>\n",
       "    <tr>\n",
       "      <th>10%</th>\n",
       "      <td>76.824568</td>\n",
       "    </tr>\n",
       "    <tr>\n",
       "      <th>25%</th>\n",
       "      <td>88.214582</td>\n",
       "    </tr>\n",
       "    <tr>\n",
       "      <th>50%</th>\n",
       "      <td>98.405082</td>\n",
       "    </tr>\n",
       "    <tr>\n",
       "      <th>75%</th>\n",
       "      <td>117.862819</td>\n",
       "    </tr>\n",
       "    <tr>\n",
       "      <th>90%</th>\n",
       "      <td>137.077975</td>\n",
       "    </tr>\n",
       "    <tr>\n",
       "      <th>max</th>\n",
       "      <td>160.340079</td>\n",
       "    </tr>\n",
       "  </tbody>\n",
       "</table>\n",
       "</div>"
      ],
      "text/plain": [
       "             RATIO\n",
       "count  5044.000000\n",
       "mean    102.688465\n",
       "std      21.942508\n",
       "min      47.646029\n",
       "10%      76.824568\n",
       "25%      88.214582\n",
       "50%      98.405082\n",
       "75%     117.862819\n",
       "90%     137.077975\n",
       "max     160.340079"
      ]
     },
     "execution_count": 86,
     "metadata": {},
     "output_type": "execute_result"
    }
   ],
   "source": [
    "my_ratio_df[['RATIO']].describe(percentiles=[.1, .25, .5, .75, .9])"
   ]
  },
  {
   "cell_type": "markdown",
   "metadata": {},
   "source": [
    "Plotting the tmc/gdp ratio starting in 2010, near the end of the GFC."
   ]
  },
  {
   "cell_type": "code",
   "execution_count": 85,
   "metadata": {},
   "outputs": [
    {
     "data": {
      "image/png": "[encoded data removed]",
      "text/plain": [
       "<Figure size 2000x1000 with 1 Axes>"
      ]
     },
     "metadata": {},
     "output_type": "display_data"
    },
    {
     "name": "stdout",
     "output_type": "stream",
     "text": [
      "<ggplot: (312288142)>\n"
     ]
    }
   ],
   "source": [
    "print(ggplot(my_ratio_df.loc[my_ratio_df['MONTH'] > '2010-01'])\n",
    "     + geom_boxplot(aes(x='factor(MONTH)', y='RATIO'))\n",
    "     + scale_x_discrete(name='MONTH', breaks=lambda arr: [x for x in arr if x[5:7] == '01'])\n",
    "     + themes.theme_gray()\n",
    "     + themes.theme(figure_size=(20,10)))"
   ]
  }
 ],
 "metadata": {
  "kernelspec": {
   "display_name": "Python 3",
   "language": "python",
   "name": "python3"
  },
  "language_info": {
   "codemirror_mode": {
    "name": "ipython",
    "version": 3
   },
   "file_extension": ".py",
   "mimetype": "text/x-python",
   "name": "python",
   "nbconvert_exporter": "python",
   "pygments_lexer": "ipython3",
   "version": "3.8.1"
  }
 },
 "nbformat": 4,
 "nbformat_minor": 4
}
